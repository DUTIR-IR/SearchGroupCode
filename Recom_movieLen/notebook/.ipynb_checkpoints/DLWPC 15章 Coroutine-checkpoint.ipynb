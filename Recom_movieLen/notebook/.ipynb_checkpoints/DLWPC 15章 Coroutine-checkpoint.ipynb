{
 "cells": [
  {
   "cell_type": "code",
   "execution_count": 1,
   "metadata": {
    "ExecuteTime": {
     "end_time": "2020-10-13T14:46:07.591772Z",
     "start_time": "2020-10-13T14:46:06.986350Z"
    }
   },
   "outputs": [],
   "source": [
    "import pickle\n",
    "import os\n",
    "import re\n",
    "import copy\n",
    "from collections import Counter\n",
    "\n",
    "import pandas as pd\n",
    "import numpy as np\n",
    "\n",
    "import matplotlib.pyplot as plt"
   ]
  },
  {
   "cell_type": "code",
   "execution_count": 82,
   "metadata": {},
   "outputs": [],
   "source": [
    "import time\n",
    "import warnings"
   ]
  },
  {
   "cell_type": "code",
   "execution_count": 3,
   "metadata": {},
   "outputs": [],
   "source": [
    "warnings.filterwarnings('ignore')"
   ]
  },
  {
   "cell_type": "code",
   "execution_count": 4,
   "metadata": {},
   "outputs": [],
   "source": [
    "import random"
   ]
  },
  {
   "cell_type": "code",
   "execution_count": 5,
   "metadata": {
    "ExecuteTime": {
     "end_time": "2020-10-13T14:46:07.597621Z",
     "start_time": "2020-10-13T14:46:07.593588Z"
    }
   },
   "outputs": [],
   "source": [
    "%matplotlib inline"
   ]
  },
  {
   "cell_type": "code",
   "execution_count": 6,
   "metadata": {},
   "outputs": [],
   "source": [
    "import asyncio"
   ]
  },
  {
   "cell_type": "code",
   "execution_count": 76,
   "metadata": {},
   "outputs": [],
   "source": [
    "def consumer():\n",
    "    '''消费者'''\n",
    "    total_consume = 0\n",
    "    meassage = 'Init message'\n",
    "    while True:\n",
    "        produced_goods = yield meassage\n",
    "        if produced_goods == None:\n",
    "            break\n",
    "        total_consume += produced_goods\n",
    "        message = 'OK'\n",
    "        print(f'Consume {produced_goods} goods.')\n",
    "    print(f'Total consuming:{total_consume}')\n",
    "    return total_consume"
   ]
  },
  {
   "cell_type": "code",
   "execution_count": 77,
   "metadata": {},
   "outputs": [],
   "source": [
    "def producer(c):\n",
    "    total_round = 5\n",
    "    # 初始化消费者\n",
    "    next(c)\n",
    "    while total_round>0:\n",
    "        print(f'Round:[{5-total_round}]')\n",
    "        product = random.randint(1,10)\n",
    "        signal = c.send(product)\n",
    "        total_round -= 1\n",
    "    try:\n",
    "        c.send(None)\n",
    "    except StopIteration as e:\n",
    "        print(f'Final result:{e.value}')"
   ]
  },
  {
   "cell_type": "code",
   "execution_count": 78,
   "metadata": {
    "scrolled": true
   },
   "outputs": [
    {
     "name": "stdout",
     "output_type": "stream",
     "text": [
      "Round:[0]\n",
      "Consume 7 goods.\n",
      "Round:[1]\n",
      "Consume 7 goods.\n",
      "Round:[2]\n",
      "Consume 5 goods.\n",
      "Round:[3]\n",
      "Consume 9 goods.\n",
      "Round:[4]\n",
      "Consume 10 goods.\n",
      "Total consuming:38\n",
      "Final result:38\n"
     ]
    }
   ],
   "source": [
    "cons = consumer()\n",
    "producer(cons)"
   ]
  },
  {
   "cell_type": "code",
   "execution_count": 59,
   "metadata": {},
   "outputs": [],
   "source": [
    "def many_consumer(cons_queue,c_id):\n",
    "    while True:\n",
    "        cons_queue[c_id] = yield from consumer()"
   ]
  },
  {
   "cell_type": "code",
   "execution_count": 71,
   "metadata": {},
   "outputs": [],
   "source": [
    "def producer_many_cons():\n",
    "    cons_lst = [0,0,0,0]\n",
    "    cons_ids = [0,1,2,3]\n",
    "    for c_id in cons_ids:\n",
    "        print(f'Consumer:[{c_id}]')\n",
    "        c = many_consumer(cons_lst,c_id)\n",
    "        next(c)\n",
    "        total_round = 5\n",
    "        while total_round>0:\n",
    "            print(f'Product round:={5-total_round}=')\n",
    "            product = random.randint(1,10)\n",
    "            signal = c.send(product)\n",
    "            total_round -= 1\n",
    "        c.send(None)"
   ]
  },
  {
   "cell_type": "code",
   "execution_count": 72,
   "metadata": {},
   "outputs": [],
   "source": [
    "cons_from = consumer_from(cons)"
   ]
  },
  {
   "cell_type": "code",
   "execution_count": 73,
   "metadata": {
    "scrolled": false
   },
   "outputs": [
    {
     "name": "stdout",
     "output_type": "stream",
     "text": [
      "Consumer:[0]\n",
      "Product round:=0=\n",
      "Consume 4 goods.\n",
      "Product round:=1=\n",
      "Consume 6 goods.\n",
      "Product round:=2=\n",
      "Consume 2 goods.\n",
      "Product round:=3=\n",
      "Consume 6 goods.\n",
      "Product round:=4=\n",
      "Consume 4 goods.\n",
      "Consume Over total consuming:22\n",
      "Consumer:[1]\n",
      "Product round:=0=\n",
      "Consume 4 goods.\n",
      "Product round:=1=\n",
      "Consume 6 goods.\n",
      "Product round:=2=\n",
      "Consume 5 goods.\n",
      "Product round:=3=\n",
      "Consume 8 goods.\n",
      "Product round:=4=\n",
      "Consume 7 goods.\n",
      "Consume Over total consuming:30\n",
      "Consumer:[2]\n",
      "Product round:=0=\n",
      "Consume 3 goods.\n",
      "Product round:=1=\n",
      "Consume 9 goods.\n",
      "Product round:=2=\n",
      "Consume 2 goods.\n",
      "Product round:=3=\n",
      "Consume 7 goods.\n",
      "Product round:=4=\n",
      "Consume 6 goods.\n",
      "Consume Over total consuming:27\n",
      "Consumer:[3]\n",
      "Product round:=0=\n",
      "Consume 6 goods.\n",
      "Product round:=1=\n",
      "Consume 10 goods.\n",
      "Product round:=2=\n",
      "Consume 5 goods.\n",
      "Product round:=3=\n",
      "Consume 6 goods.\n",
      "Product round:=4=\n",
      "Consume 8 goods.\n",
      "Consume Over total consuming:35\n"
     ]
    }
   ],
   "source": [
    "producer_many_cons()"
   ]
  },
  {
   "cell_type": "markdown",
   "metadata": {},
   "source": [
    "### asyncio 方式下的重构"
   ]
  },
  {
   "cell_type": "code",
   "execution_count": 80,
   "metadata": {},
   "outputs": [],
   "source": [
    "async def consumer(queue, id):\n",
    "    while True:\n",
    "        val = await queue.get()\n",
    "        print('{} get a val: {}'.format(id, val))\n",
    "        await asyncio.sleep(1)\n",
    "\n",
    "\n",
    "async def producer(queue, id):\n",
    "    for i in range(5):\n",
    "        val = random.randint(1, 10)\n",
    "        await queue.put(val)\n",
    "        print('{} put a val: {}'.format(id, val))\n",
    "        await asyncio.sleep(1)\n",
    "\n",
    "\n",
    "async def main():\n",
    "    queue = asyncio.Queue()\n",
    "\n",
    "    consumer_1 = asyncio.create_task(consumer(queue, 'consumer_1'))\n",
    "    consumer_2 = asyncio.create_task(consumer(queue, 'consumer_2'))\n",
    "    producer_1 = asyncio.create_task(producer(queue, 'producer_1'))\n",
    "    producer_2 = asyncio.create_task(producer(queue, 'producer_2'))\n",
    "    await asyncio.sleep(10)\n",
    "    consumer_1.cancel()\n",
    "    consumer_2.cancel()\n",
    "\n",
    "    await asyncio.gather(consumer_1, consumer_2, producer_1, producer_2, return_exceptions=True)"
   ]
  },
  {
   "cell_type": "code",
   "execution_count": 85,
   "metadata": {},
   "outputs": [
    {
     "name": "stdout",
     "output_type": "stream",
     "text": [
      "producer_1 put a val: 9\n",
      "producer_2 put a val: 7\n",
      "consumer_1 get a val: 9\n",
      "consumer_2 get a val: 7\n",
      "producer_1 put a val: 2\n",
      "producer_2 put a val: 6\n",
      "consumer_2 get a val: 2\n",
      "consumer_1 get a val: 6\n",
      "producer_1 put a val: 6\n",
      "producer_2 put a val: 3\n",
      "consumer_1 get a val: 6\n",
      "consumer_2 get a val: 3\n",
      "producer_1 put a val: 5\n",
      "producer_2 put a val: 7\n",
      "consumer_2 get a val: 5\n",
      "consumer_1 get a val: 7\n",
      "producer_1 put a val: 4\n",
      "producer_2 put a val: 5\n",
      "consumer_1 get a val: 4\n",
      "consumer_2 get a val: 5\n",
      "10.006146299999273\n"
     ]
    }
   ],
   "source": [
    "start = time.perf_counter()\n",
    "await main()\n",
    "end = time.perf_counter()\n",
    "print(end - start)"
   ]
  },
  {
   "cell_type": "code",
   "execution_count": null,
   "metadata": {},
   "outputs": [],
   "source": []
  }
 ],
 "metadata": {
  "kernelspec": {
   "display_name": "Python 3",
   "language": "python",
   "name": "python3"
  },
  "language_info": {
   "codemirror_mode": {
    "name": "ipython",
    "version": 3
   },
   "file_extension": ".py",
   "mimetype": "text/x-python",
   "name": "python",
   "nbconvert_exporter": "python",
   "pygments_lexer": "ipython3",
   "version": "3.8.3"
  }
 },
 "nbformat": 4,
 "nbformat_minor": 2
}
